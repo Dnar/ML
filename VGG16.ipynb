{
  "nbformat": 4,
  "nbformat_minor": 0,
  "metadata": {
    "colab": {
      "name": "VGG16.ipynb",
      "provenance": [],
      "collapsed_sections": []
    },
    "kernelspec": {
      "name": "python3",
      "display_name": "Python 3"
    },
    "language_info": {
      "name": "python"
    },
    "accelerator": "GPU"
  },
  "cells": [
    {
      "cell_type": "markdown",
      "metadata": {
        "id": "U3Bt5RcZfy3Z"
      },
      "source": [
        "# Задача\n",
        "\n",
        "Натренировать претренированные VGG16 и ResNet50 модели решать регрессионные задачи. Например, в случае с набором данных в этом коде, определять рейтинг качества картинки. \n",
        "\n",
        "Набор данных http://database.mmsp-kn.de/koniq-10k-database.html\n",
        "\n",
        "Насколько я понимаю, модель не обучается, так как Mean Squared Error набора данных для валидации колеблется в каком-то пределе вместо того, чтобы уменьшаться.\n",
        "\n",
        "Если возможно обучить модель решать подобную задачу, хотелось бы, чтобы модель обучалась."
      ]
    },
    {
      "cell_type": "markdown",
      "metadata": {
        "id": "W87sHk3Ukkn5"
      },
      "source": [
        ""
      ]
    },
    {
      "cell_type": "code",
      "metadata": {
        "id": "4qD8iP9LZ1Tq"
      },
      "source": [
        "!wget http://datasets.vqa.mmsp-kn.de/archives/koniq10k_scores_and_distributions.zip"
      ],
      "execution_count": null,
      "outputs": []
    },
    {
      "cell_type": "code",
      "metadata": {
        "id": "Haeypu_Fbwrj"
      },
      "source": [
        "!wget http://datasets.vqa.mmsp-kn.de/archives/koniq10k_512x384.zip"
      ],
      "execution_count": null,
      "outputs": []
    },
    {
      "cell_type": "code",
      "metadata": {
        "id": "ydBXFtMUbmXW"
      },
      "source": [
        "! mkdir images"
      ],
      "execution_count": null,
      "outputs": []
    },
    {
      "cell_type": "code",
      "metadata": {
        "id": "8R6yobPnZ8v_"
      },
      "source": [
        "!unzip koniq10k_scores_and_distributions.zip"
      ],
      "execution_count": null,
      "outputs": []
    },
    {
      "cell_type": "code",
      "metadata": {
        "id": "UQbbnbrYcBAw"
      },
      "source": [
        "!unzip koniq10k_512x384.zip -d images"
      ],
      "execution_count": null,
      "outputs": []
    },
    {
      "cell_type": "code",
      "metadata": {
        "id": "o1u5MRNgcU00"
      },
      "source": [
        "import pandas as pd\n",
        "df=pd.read_csv('/content/koniq10k_scores_and_distributions.csv',dtype=str)\n",
        "\n",
        "traindf = df.drop(df.columns[[1, 2, 3, 4, 5, 6, 8, 9]], axis=1)\n",
        "\n",
        "#def append_ext(fn):\n",
        "#    return fn+\".jpg\"\n",
        "\n",
        "#traindf[\"image_name\"]=traindf[\"image_name\"].apply(append_ext)\n",
        "\n",
        "traindf[\"MOS\"]=traindf[\"MOS\"].astype(float)\n",
        "#.astype(float)\n",
        "print(traindf)\n",
        "print(traindf[\"MOS\"][4])"
      ],
      "execution_count": null,
      "outputs": []
    },
    {
      "cell_type": "code",
      "metadata": {
        "id": "0T-AJYD5gBz8"
      },
      "source": [
        "from keras.applications.vgg16 import VGG16\n",
        "import keras\n",
        "from keras import models\n",
        "from keras import layers\n",
        "from keras import optimizers\n",
        "from keras.preprocessing.image import ImageDataGenerator\n",
        "from tensorflow.python.client import device_lib\n",
        "import matplotlib.pyplot as plt\n",
        "\n",
        "\n",
        "img_height = 224\n",
        "img_width = 224   \n",
        "train_dir = \"/content/images/512x384\"\n",
        "batch_size = 32\n",
        "\n",
        "train_datagen = ImageDataGenerator(rescale=1./255, validation_split=0.2)\n",
        "\n",
        "\n",
        "train_generator = train_datagen.flow_from_dataframe(\n",
        "    directory=train_dir,\n",
        "    dataframe=traindf,\n",
        "    x_col=\"image_name\",\n",
        "    y_col=\"MOS\",\n",
        "    target_size=(img_height, img_width),\n",
        "    batch_size=batch_size,\n",
        "    class_mode='raw',\n",
        "    subset='training') # set as training data\n",
        "\n",
        "validation_generator = train_datagen.flow_from_dataframe(\n",
        "    directory=train_dir, # same directory as training data\n",
        "    dataframe=traindf,\n",
        "    x_col=\"image_name\",\n",
        "    y_col=\"MOS\",\n",
        "    target_size=(img_height, img_width),\n",
        "    batch_size=batch_size,\n",
        "    class_mode='raw',\n",
        "    subset='validation') # set as validation data\n",
        "\n",
        "for _ in range(5):\n",
        "    img, label = train_generator.next()\n",
        "    print(img.shape)   #  (1,224,224,3)\n",
        "    plt.imshow(img[0])\n",
        "    plt.show()\n",
        "    print(label[0])"
      ],
      "execution_count": null,
      "outputs": []
    },
    {
      "cell_type": "code",
      "metadata": {
        "id": "DmqYNyfqg9AV"
      },
      "source": [
        "print(device_lib.list_local_devices())\n",
        "\n",
        "#model = VGG16()\n",
        "#model.summary()\n",
        "\n",
        "\n",
        "conv_base = VGG16(weights='imagenet',\n",
        "                  include_top=False,\n",
        "                  input_shape=(img_height, img_width, 3))\n",
        "print(conv_base.summary())\n",
        "print(\"----------------------------------\")\n",
        "model = models.Sequential()\n",
        "model.add(conv_base)\n",
        "model.add(layers.Flatten())\n",
        "#model.add(layers.Dense(2048, activation='relu'))\n",
        "#model.add(layers.Dense(1024, activation='relu'))\n",
        "#model.add(layers.Dense(256, activation='relu'))\n",
        "#model.add(layers.Dense(64, activation='relu'))\n",
        "#model.add(layers.Dense(32, activation='relu'))\n",
        "model.add(layers.Dense(4096, activation='relu'))     #model.add(layers.Dense(512, activation='relu'))\n",
        "model.add(layers.Dense(4096, activation='relu'))      #model.add(layers.Dense(64, activation='relu'))\n",
        "model.add(layers.Dense(1, activation='linear'))     #model.add(layers.Dense(1, activation='linear'))\n",
        "\n",
        "conv_base.trainable = False\n",
        "\n",
        "model.compile(loss=keras.losses.MeanSquaredError(),\n",
        "              optimizer=\"Adam\",\n",
        "              metrics=[keras.metrics.MeanAbsoluteError()])\n",
        "\n",
        "\n",
        "model.summary()"
      ],
      "execution_count": null,
      "outputs": []
    },
    {
      "cell_type": "code",
      "metadata": {
        "id": "Joq-niTVhpUO"
      },
      "source": [
        "history = model.fit(\n",
        "    train_generator,\n",
        "    epochs=20,\n",
        "    validation_data=validation_generator,\n",
        "    verbose=1,\n",
        "    use_multiprocessing=True\n",
        ")"
      ],
      "execution_count": null,
      "outputs": []
    },
    {
      "cell_type": "code",
      "metadata": {
        "id": "luyFcOFoh5mo"
      },
      "source": [
        "import numpy as np\n",
        "\n",
        "img, label = validation_generator.next()\n",
        "#img, label = train_generator.next()\n",
        "print(img[0].shape)   #  (1,256,256,3)\n",
        "plt.imshow(img[0])\n",
        "plt.show()\n",
        "print(label[0])\n",
        "print(\"--------\")\n",
        "print(\"Predicted:\")\n",
        "im = np.expand_dims(img[0], axis=0)\n",
        "print(model.predict(im))"
      ],
      "execution_count": null,
      "outputs": []
    },
    {
      "cell_type": "code",
      "metadata": {
        "colab": {
          "base_uri": "https://localhost:8080/",
          "height": 266
        },
        "id": "FqjACaSmiCGm",
        "outputId": "722290e8-a1ba-43ce-e8fe-184042225b97"
      },
      "source": [
        "plt.figure(1, figsize = (15,8)) \n",
        "    \n",
        "plt.subplot(221)  \n",
        "plt.plot(history.history['mean_absolute_error'])  \n",
        "plt.plot(history.history['val_mean_absolute_error'])  \n",
        "plt.title('MAE')  \n",
        "plt.ylabel('MAE')  \n",
        "plt.xlabel('epoch')  \n",
        "plt.legend(['train', 'valid']) \n",
        "    \n",
        "plt.subplot(222)  \n",
        "plt.plot(history.history['loss'])  \n",
        "plt.plot(history.history['val_loss'])  \n",
        "plt.title('MSE')  \n",
        "plt.ylabel('MSE')  \n",
        "plt.xlabel('epoch')  \n",
        "plt.legend(['train', 'valid']) \n",
        "\n",
        "plt.show()"
      ],
      "execution_count": null,
      "outputs": [
        {
          "output_type": "display_data",
          "data": {
            "image/png": "[encoded data removed]",
            "text/plain": [
              "<Figure size 1080x576 with 2 Axes>"
            ]
          },
          "metadata": {
            "needs_background": "light"
          }
        }
      ]
    }
  ]
}